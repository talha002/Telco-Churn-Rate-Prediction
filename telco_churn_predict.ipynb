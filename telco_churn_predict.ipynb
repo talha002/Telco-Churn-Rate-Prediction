{
 "cells": [
  {
   "cell_type": "code",
   "execution_count": 1,
   "metadata": {},
   "outputs": [],
   "source": [
    "import pandas as pd\n",
    "import numpy as np\n",
    "import seaborn as sns\n",
    "from matplotlib import pyplot as plt\n",
    "from sklearn.preprocessing import MinMaxScaler, LabelEncoder\n",
    "from sklearn.model_selection import GridSearchCV, cross_validate\n",
    "from sklearn.ensemble import RandomForestClassifier, GradientBoostingClassifier\n",
    "from sklearn.linear_model import LogisticRegression\n",
    "from lightgbm import LGBMClassifier\n",
    "from catboost import CatBoostClassifier\n",
    "from xgboost import XGBClassifier\n",
    "\n",
    "pd.set_option('display.max_columns', None)\n",
    "pd.set_option('display.width', 500)\n",
    "df_ = pd.read_csv('Telco-Customer-Churn_2.csv')\n",
    "df = df_.copy()"
   ]
  },
  {
   "cell_type": "markdown",
   "metadata": {},
   "source": [
    "Hedef değişkenimiz atanması ve bozuk olan bir stünun tekrardan tanımlanması:"
   ]
  },
  {
   "cell_type": "code",
   "execution_count": 2,
   "metadata": {},
   "outputs": [],
   "source": [
    "TARGET = 'Churn'\n",
    "df['TotalCharges'] = df['tenure']*df['MonthlyCharges']"
   ]
  },
  {
   "cell_type": "markdown",
   "metadata": {},
   "source": [
    "Data Frame'in bir özetine bakılması:"
   ]
  },
  {
   "cell_type": "code",
   "execution_count": 3,
   "metadata": {},
   "outputs": [
    {
     "name": "stdout",
     "output_type": "stream",
     "text": [
      "##################### Shape #####################\n",
      "(7043, 21)\n",
      "##################### Types #####################\n",
      "customerID           object\n",
      "gender               object\n",
      "SeniorCitizen         int64\n",
      "Partner              object\n",
      "Dependents           object\n",
      "tenure                int64\n",
      "PhoneService         object\n",
      "MultipleLines        object\n",
      "InternetService      object\n",
      "OnlineSecurity       object\n",
      "OnlineBackup         object\n",
      "DeviceProtection     object\n",
      "TechSupport          object\n",
      "StreamingTV          object\n",
      "StreamingMovies      object\n",
      "Contract             object\n",
      "PaperlessBilling     object\n",
      "PaymentMethod        object\n",
      "MonthlyCharges      float64\n",
      "TotalCharges        float64\n",
      "Churn                object\n",
      "dtype: object\n",
      "##################### NA #####################\n",
      "customerID          0\n",
      "gender              0\n",
      "SeniorCitizen       0\n",
      "Partner             0\n",
      "Dependents          0\n",
      "tenure              0\n",
      "PhoneService        0\n",
      "MultipleLines       0\n",
      "InternetService     0\n",
      "OnlineSecurity      0\n",
      "OnlineBackup        0\n",
      "DeviceProtection    0\n",
      "TechSupport         0\n",
      "StreamingTV         0\n",
      "StreamingMovies     0\n",
      "Contract            0\n",
      "PaperlessBilling    0\n",
      "PaymentMethod       0\n",
      "MonthlyCharges      0\n",
      "TotalCharges        0\n",
      "Churn               0\n",
      "dtype: int64\n",
      "##################### Quantiles #####################\n",
      "                 count         mean          std    min     0%     5%      50%       95%       99%     100%      max\n",
      "SeniorCitizen   7043.0     0.162147     0.368612   0.00   0.00   0.00     0.00     1.000     1.000     1.00     1.00\n",
      "tenure          7043.0    32.371149    24.559481   0.00   0.00   1.00    29.00    72.000    72.000    72.00    72.00\n",
      "MonthlyCharges  7043.0    64.761692    30.090047  18.25  18.25  19.65    70.35   107.400   114.729   118.75   118.75\n",
      "TotalCharges    7043.0  2279.581350  2264.729447   0.00   0.00  48.60  1393.60  6919.995  8038.800  8550.00  8550.00\n",
      "##################### nunique #####################\n",
      "customerID          7043\n",
      "gender                 2\n",
      "SeniorCitizen          2\n",
      "Partner                2\n",
      "Dependents             2\n",
      "tenure                73\n",
      "PhoneService           2\n",
      "MultipleLines          3\n",
      "InternetService        3\n",
      "OnlineSecurity         3\n",
      "OnlineBackup           3\n",
      "DeviceProtection       3\n",
      "TechSupport            3\n",
      "StreamingTV            3\n",
      "StreamingMovies        3\n",
      "Contract               3\n",
      "PaperlessBilling       2\n",
      "PaymentMethod          4\n",
      "MonthlyCharges      1585\n",
      "TotalCharges        6051\n",
      "Churn                  2\n",
      "dtype: int64\n"
     ]
    }
   ],
   "source": [
    "def check_df(dataframe, head = 5):\n",
    "    print(\"##################### Shape #####################\")\n",
    "    print(dataframe.shape)\n",
    "    print(\"##################### Types #####################\")\n",
    "    print(dataframe.dtypes)\n",
    "    print(\"##################### NA #####################\")\n",
    "    print(dataframe.isnull().sum())\n",
    "    print(\"##################### Quantiles #####################\")\n",
    "    print(dataframe.describe([0, 0.05, 0.50, 0.95, 0.99, 1]).T)\n",
    "    print(\"##################### nunique #####################\")\n",
    "    print(dataframe.nunique())\n",
    "check_df(df)"
   ]
  },
  {
   "cell_type": "markdown",
   "metadata": {},
   "source": [
    "Kategorik, numerik ve kategorik fakat cardinal olan değişkenlerin saptanması:"
   ]
  },
  {
   "cell_type": "code",
   "execution_count": 4,
   "metadata": {},
   "outputs": [
    {
     "name": "stdout",
     "output_type": "stream",
     "text": [
      "Observations: 7043\n",
      "Variables: 21\n",
      "cat_cols: 16\n",
      "num_cols: 3\n",
      "cat_but_car: 1\n",
      "num_but_cat: 1\n"
     ]
    }
   ],
   "source": [
    "def grab_col_names(dataframe, target, cat_th=10, car_th=20):\n",
    "    \"\"\"\n",
    "\n",
    "    Veri setindeki kategorik, numerik ve kategorik fakat kardinal değişkenlerin isimlerini verir.\n",
    "    Not: Kategorik değişkenlerin içerisine numerik görünümlü kategorik değişkenler de dahildir.\n",
    "\n",
    "    Parameters\n",
    "    ------\n",
    "        dataframe: dataframe\n",
    "                Değişken isimleri alınmak istenilen dataframe\n",
    "        cat_th: int, optional\n",
    "                numerik fakat kategorik olan değişkenler için sınıf eşik değeri\n",
    "        car_th: int, optinal\n",
    "                kategorik fakat kardinal değişkenler için sınıf eşik değeri\n",
    "        target: str\n",
    "                Bağımlı(hedef) değişken\n",
    "\n",
    "    Returns\n",
    "    ------\n",
    "        cat_cols: list\n",
    "                Kategorik değişken listesi\n",
    "        num_cols: list\n",
    "                Numerik değişken listesi\n",
    "        cat_but_car: list\n",
    "                Kategorik görünümlü kardinal değişken listesi\n",
    "\n",
    "    Examples\n",
    "    ------\n",
    "        import seaborn as sns\n",
    "        df = sns.load_dataset(\"iris\")\n",
    "        print(grab_col_names(df))\n",
    "\n",
    "\n",
    "    Notes\n",
    "    ------\n",
    "        cat_cols + num_cols + cat_but_car = toplam değişken sayısı\n",
    "        num_but_cat cat_cols'un içerisinde.\n",
    "        Return olan 3 liste toplamı toplam değişken sayısına eşittir: cat_cols + num_cols + cat_but_car = değişken sayısı\n",
    "\n",
    "    \"\"\"\n",
    "\n",
    "    # cat_cols, cat_but_car\n",
    "    cat_cols_mask = [col for col in dataframe.columns if dataframe[col].dtypes == \"O\"\n",
    "                     and dataframe[col].nunique() < car_th and col != target]\n",
    "    num_but_cat = [col for col in dataframe.columns if dataframe[col].dtypes != \"O\"\n",
    "                   and dataframe[col].nunique() < cat_th and col != target]\n",
    "    cat_but_car = [col for col in dataframe.columns if dataframe[col].dtypes == \"O\" and\n",
    "                   col not in cat_cols_mask and col != target]\n",
    "\n",
    "    cat_cols = cat_cols_mask + num_but_cat\n",
    "\n",
    "    # num_cols\n",
    "    num_cols = [col for col in dataframe.columns if dataframe[col].dtypes != \"O\"\n",
    "                and col not in num_but_cat and col != target]\n",
    "\n",
    "    print(f\"Observations: {dataframe.shape[0]}\")\n",
    "    print(f\"Variables: {dataframe.shape[1]}\")\n",
    "    print(f'cat_cols: {len(cat_cols)}')\n",
    "    print(f'num_cols: {len(num_cols)}')\n",
    "    print(f'cat_but_car: {len(cat_but_car)}')\n",
    "    print(f'num_but_cat: {len(num_but_cat)}')\n",
    "    return cat_cols, num_cols, cat_but_car\n",
    "cat_cols, num_cols, cat_but_car = grab_col_names(df, TARGET)"
   ]
  },
  {
   "cell_type": "markdown",
   "metadata": {},
   "source": [
    "Kategorik değişkenlerin özetlerine bakma:"
   ]
  },
  {
   "cell_type": "code",
   "execution_count": 5,
   "metadata": {},
   "outputs": [
    {
     "name": "stdout",
     "output_type": "stream",
     "text": [
      "        gender     Ratio\n",
      "Male      3555  50.47565\n",
      "Female    3488  49.52435\n",
      "##########################################\n"
     ]
    },
    {
     "data": {
      "image/png": "[encoded data removed]",
      "text/plain": [
       "<Figure size 432x288 with 1 Axes>"
      ]
     },
     "metadata": {
      "needs_background": "light"
     },
     "output_type": "display_data"
    },
    {
     "name": "stdout",
     "output_type": "stream",
     "text": [
      "     Partner     Ratio\n",
      "No      3641  51.69672\n",
      "Yes     3402  48.30328\n",
      "##########################################\n"
     ]
    },
    {
     "data": {
      "image/png": "[encoded data removed]",
      "text/plain": [
       "<Figure size 432x288 with 1 Axes>"
      ]
     },
     "metadata": {
      "needs_background": "light"
     },
     "output_type": "display_data"
    },
    {
     "name": "stdout",
     "output_type": "stream",
     "text": [
      "     Dependents      Ratio\n",
      "No         4933  70.041176\n",
      "Yes        2110  29.958824\n",
      "##########################################\n"
     ]
    },
    {
     "data": {
      "image/png": "[encoded data removed]",
      "text/plain": [
       "<Figure size 432x288 with 1 Axes>"
      ]
     },
     "metadata": {
      "needs_background": "light"
     },
     "output_type": "display_data"
    },
    {
     "name": "stdout",
     "output_type": "stream",
     "text": [
      "     PhoneService      Ratio\n",
      "Yes          6361  90.316626\n",
      "No            682   9.683374\n",
      "##########################################\n"
     ]
    },
    {
     "data": {
      "image/png": "[encoded data removed]",
      "text/plain": [
       "<Figure size 432x288 with 1 Axes>"
      ]
     },
     "metadata": {
      "needs_background": "light"
     },
     "output_type": "display_data"
    },
    {
     "name": "stdout",
     "output_type": "stream",
     "text": [
      "                  MultipleLines      Ratio\n",
      "No                         3390  48.132898\n",
      "Yes                        2971  42.183729\n",
      "No phone service            682   9.683374\n",
      "##########################################\n"
     ]
    },
    {
     "data": {
      "image/png": "[encoded data removed]",
      "text/plain": [
       "<Figure size 432x288 with 1 Axes>"
      ]
     },
     "metadata": {
      "needs_background": "light"
     },
     "output_type": "display_data"
    },
    {
     "name": "stdout",
     "output_type": "stream",
     "text": [
      "             InternetService      Ratio\n",
      "Fiber optic             3096  43.958540\n",
      "DSL                     2421  34.374556\n",
      "No                      1526  21.666903\n",
      "##########################################\n"
     ]
    },
    {
     "data": {
      "image/png": "[encoded data removed]",
      "text/plain": [
       "<Figure size 432x288 with 1 Axes>"
      ]
     },
     "metadata": {
      "needs_background": "light"
     },
     "output_type": "display_data"
    },
    {
     "name": "stdout",
     "output_type": "stream",
     "text": [
      "                     OnlineSecurity      Ratio\n",
      "No                             3498  49.666335\n",
      "Yes                            2019  28.666761\n",
      "No internet service            1526  21.666903\n",
      "##########################################\n"
     ]
    },
    {
     "data": {
      "image/png": "[encoded data removed]",
      "text/plain": [
       "<Figure size 432x288 with 1 Axes>"
      ]
     },
     "metadata": {
      "needs_background": "light"
     },
     "output_type": "display_data"
    },
    {
     "name": "stdout",
     "output_type": "stream",
     "text": [
      "                     OnlineBackup      Ratio\n",
      "No                           3088  43.844952\n",
      "Yes                          2429  34.488144\n",
      "No internet service          1526  21.666903\n",
      "##########################################\n"
     ]
    },
    {
     "data": {
      "image/png": "[encoded data removed]",
      "text/plain": [
       "<Figure size 432x288 with 1 Axes>"
      ]
     },
     "metadata": {
      "needs_background": "light"
     },
     "output_type": "display_data"
    },
    {
     "name": "stdout",
     "output_type": "stream",
     "text": [
      "                     DeviceProtection      Ratio\n",
      "No                               3095  43.944342\n",
      "Yes                              2422  34.388755\n",
      "No internet service              1526  21.666903\n",
      "##########################################\n"
     ]
    },
    {
     "data": {
      "image/png": "[encoded data removed]",
      "text/plain": [
       "<Figure size 432x288 with 1 Axes>"
      ]
     },
     "metadata": {
      "needs_background": "light"
     },
     "output_type": "display_data"
    },
    {
     "name": "stdout",
     "output_type": "stream",
     "text": [
      "                     TechSupport      Ratio\n",
      "No                          3473  49.311373\n",
      "Yes                         2044  29.021724\n",
      "No internet service         1526  21.666903\n",
      "##########################################\n"
     ]
    },
    {
     "data": {
      "image/png": "[encoded data removed]",
      "text/plain": [
       "<Figure size 432x288 with 1 Axes>"
      ]
     },
     "metadata": {
      "needs_background": "light"
     },
     "output_type": "display_data"
    },
    {
     "name": "stdout",
     "output_type": "stream",
     "text": [
      "                     StreamingTV      Ratio\n",
      "No                          2810  39.897771\n",
      "Yes                         2707  38.435326\n",
      "No internet service         1526  21.666903\n",
      "##########################################\n"
     ]
    },
    {
     "data": {
      "image/png": "[encoded data removed]",
      "text/plain": [
       "<Figure size 432x288 with 1 Axes>"
      ]
     },
     "metadata": {
      "needs_background": "light"
     },
     "output_type": "display_data"
    },
    {
     "name": "stdout",
     "output_type": "stream",
     "text": [
      "                     StreamingMovies      Ratio\n",
      "No                              2785  39.542808\n",
      "Yes                             2732  38.790288\n",
      "No internet service             1526  21.666903\n",
      "##########################################\n"
     ]
    },
    {
     "data": {
      "image/png": "[encoded data removed]",
      "text/plain": [
       "<Figure size 432x288 with 1 Axes>"
      ]
     },
     "metadata": {
      "needs_background": "light"
     },
     "output_type": "display_data"
    },
    {
     "name": "stdout",
     "output_type": "stream",
     "text": [
      "                Contract      Ratio\n",
      "Month-to-month      3875  55.019168\n",
      "Two year            1695  24.066449\n",
      "One year            1473  20.914383\n",
      "##########################################\n"
     ]
    },
    {
     "data": {
      "image/png": "[encoded data removed]",
      "text/plain": [
       "<Figure size 432x288 with 1 Axes>"
      ]
     },
     "metadata": {
      "needs_background": "light"
     },
     "output_type": "display_data"
    },
    {
     "name": "stdout",
     "output_type": "stream",
     "text": [
      "     PaperlessBilling      Ratio\n",
      "Yes              4171  59.221922\n",
      "No               2872  40.778078\n",
      "##########################################\n"
     ]
    },
    {
     "data": {
      "image/png": "[encoded data removed]",
      "text/plain": [
       "<Figure size 432x288 with 1 Axes>"
      ]
     },
     "metadata": {
      "needs_background": "light"
     },
     "output_type": "display_data"
    },
    {
     "name": "stdout",
     "output_type": "stream",
     "text": [
      "                           PaymentMethod      Ratio\n",
      "Electronic check                    2365  33.579441\n",
      "Mailed check                        1612  22.887974\n",
      "Bank transfer (automatic)           1544  21.922476\n",
      "Credit card (automatic)             1522  21.610109\n",
      "##########################################\n"
     ]
    },
    {
     "data": {
      "image/png": "[encoded data removed]",
      "text/plain": [
       "<Figure size 432x288 with 1 Axes>"
      ]
     },
     "metadata": {
      "needs_background": "light"
     },
     "output_type": "display_data"
    },
    {
     "name": "stdout",
     "output_type": "stream",
     "text": [
      "   SeniorCitizen      Ratio\n",
      "0           5901  83.785319\n",
      "1           1142  16.214681\n",
      "##########################################\n"
     ]
    },
    {
     "data": {
      "image/png": "[encoded data removed]",
      "text/plain": [
       "<Figure size 432x288 with 1 Axes>"
      ]
     },
     "metadata": {
      "needs_background": "light"
     },
     "output_type": "display_data"
    }
   ],
   "source": [
    "def cat_summary(dataframe, col_name, plot=False):\n",
    "    print(pd.DataFrame({col_name: dataframe[col_name].value_counts(),\n",
    "                        \"Ratio\": 100 * dataframe[col_name].value_counts() / len(dataframe)}))\n",
    "    print(\"##########################################\")\n",
    "    if plot:\n",
    "        sns.countplot(x=dataframe[col_name], data=dataframe)\n",
    "        plt.show(block=True)\n",
    "\n",
    "for col in cat_cols:\n",
    "    cat_summary(df, col, plot=True)"
   ]
  },
  {
   "cell_type": "markdown",
   "metadata": {},
   "source": [
    "Numerik değişkenlerin dağılımına bakma:"
   ]
  },
  {
   "cell_type": "code",
   "execution_count": 6,
   "metadata": {},
   "outputs": [
    {
     "name": "stdout",
     "output_type": "stream",
     "text": [
      "count    7043.000000\n",
      "mean       32.371149\n",
      "std        24.559481\n",
      "min         0.000000\n",
      "5%          1.000000\n",
      "10%         2.000000\n",
      "20%         6.000000\n",
      "30%        12.000000\n",
      "40%        20.000000\n",
      "50%        29.000000\n",
      "60%        40.000000\n",
      "70%        50.000000\n",
      "80%        60.000000\n",
      "90%        69.000000\n",
      "95%        72.000000\n",
      "99%        72.000000\n",
      "max        72.000000\n",
      "Name: tenure, dtype: float64\n"
     ]
    },
    {
     "data": {
      "image/png": "[encoded data removed]",
      "text/plain": [
       "<Figure size 432x288 with 1 Axes>"
      ]
     },
     "metadata": {
      "needs_background": "light"
     },
     "output_type": "display_data"
    },
    {
     "name": "stdout",
     "output_type": "stream",
     "text": [
      "count    7043.000000\n",
      "mean       64.761692\n",
      "std        30.090047\n",
      "min        18.250000\n",
      "5%         19.650000\n",
      "10%        20.050000\n",
      "20%        25.050000\n",
      "30%        45.850000\n",
      "40%        58.830000\n",
      "50%        70.350000\n",
      "60%        79.100000\n",
      "70%        85.500000\n",
      "80%        94.250000\n",
      "90%       102.600000\n",
      "95%       107.400000\n",
      "99%       114.729000\n",
      "max       118.750000\n",
      "Name: MonthlyCharges, dtype: float64\n"
     ]
    },
    {
     "data": {
      "image/png": "[encoded data removed]",
      "text/plain": [
       "<Figure size 432x288 with 1 Axes>"
      ]
     },
     "metadata": {
      "needs_background": "light"
     },
     "output_type": "display_data"
    },
    {
     "name": "stdout",
     "output_type": "stream",
     "text": [
      "count    7043.000000\n",
      "mean     2279.581350\n",
      "std      2264.729447\n",
      "min         0.000000\n",
      "5%         48.600000\n",
      "10%        82.920000\n",
      "20%       265.460000\n",
      "30%       548.280000\n",
      "40%       949.360000\n",
      "50%      1393.600000\n",
      "60%      2062.000000\n",
      "70%      3125.760000\n",
      "80%      4463.040000\n",
      "90%      5978.840000\n",
      "95%      6919.995000\n",
      "99%      8038.800000\n",
      "max      8550.000000\n",
      "Name: TotalCharges, dtype: float64\n"
     ]
    },
    {
     "data": {
      "image/png": "[encoded data removed]",
      "text/plain": [
       "<Figure size 432x288 with 1 Axes>"
      ]
     },
     "metadata": {
      "needs_background": "light"
     },
     "output_type": "display_data"
    }
   ],
   "source": [
    "def num_summary(dataframe, numerical_col, plot=False):\n",
    "    quantiles = [0.05, 0.10, 0.20, 0.30, 0.40, 0.50, 0.60, 0.70, 0.80, 0.90, 0.95, 0.99]\n",
    "    print(dataframe[numerical_col].describe(quantiles).T)\n",
    "\n",
    "    if plot:\n",
    "        dataframe[numerical_col].hist(bins=20)\n",
    "        plt.xlabel(numerical_col)\n",
    "        plt.title(numerical_col)\n",
    "        plt.show(block=True)\n",
    "\n",
    "for col in num_cols:\n",
    "    num_summary(df, col, plot=True)"
   ]
  },
  {
   "cell_type": "markdown",
   "metadata": {},
   "source": [
    "Numerik değişkenlerde aykırı değerlerin yakalanması:"
   ]
  },
  {
   "cell_type": "code",
   "execution_count": 7,
   "metadata": {},
   "outputs": [
    {
     "name": "stdout",
     "output_type": "stream",
     "text": [
      "There is no outlined data in tenure\n",
      "\n",
      "There is no outlined data in MonthlyCharges\n",
      "\n",
      "There is no outlined data in TotalCharges\n",
      "\n"
     ]
    }
   ],
   "source": [
    "def outlier_thresholds(dataframe, col_name, q1=0.25, q3=0.75):\n",
    "    quartile1 = dataframe[col_name].quantile(q1)\n",
    "    quartile3 = dataframe[col_name].quantile(q3)\n",
    "    interquantile_range = quartile3 - quartile1\n",
    "    up_limit = quartile3 + 1.5 * interquantile_range\n",
    "    low_limit = quartile1 - 1.5 * interquantile_range\n",
    "    return low_limit, up_limit\n",
    "def check_outlier(dataframe, col_name, print_values=False):\n",
    "    low_limit, up_limit = outlier_thresholds(dataframe, col_name)\n",
    "    if dataframe[(dataframe[col_name] > up_limit) |\n",
    "                 (dataframe[col_name] < low_limit)].any(axis=None):\n",
    "        if print_values:\n",
    "            print(f'Values with higher values than upper limit in {col_name}:\\n'\n",
    "                  f'{dataframe.loc[dataframe[col_name] > up_limit, col_name]}\\n')\n",
    "            print(f'Values with lower values than lower limit in {col_name}:\\n'\n",
    "                  f'{dataframe.loc[dataframe[col_name] < low_limit, col_name]}\\n',)\n",
    "        else:\n",
    "            print(f'There is outlined data in {col_name}\\n')\n",
    "        return True\n",
    "    else:\n",
    "        print(f'There is no outlined data in {col_name}\\n')\n",
    "        return False\n",
    "\n",
    "for col in df[num_cols].columns:\n",
    "    check_outlier(df, col, print_values=True)"
   ]
  },
  {
   "cell_type": "markdown",
   "metadata": {},
   "source": [
    "Eksik değerlerin yakalanması:"
   ]
  },
  {
   "cell_type": "code",
   "execution_count": 8,
   "metadata": {},
   "outputs": [
    {
     "name": "stdout",
     "output_type": "stream",
     "text": [
      "Empty DataFrame\n",
      "Columns: [n_miss, ratio]\n",
      "Index: []\n"
     ]
    },
    {
     "data": {
      "text/plain": [
       "[]"
      ]
     },
     "execution_count": 8,
     "metadata": {},
     "output_type": "execute_result"
    }
   ],
   "source": [
    "def missing_values_table(dataframe, na_name=False):\n",
    "    na_columns = [col for col in dataframe.columns if dataframe[col].isnull().sum() > 0]\n",
    "\n",
    "    n_miss = dataframe[na_columns].isnull().sum().sort_values(ascending=False)\n",
    "    ratio = (dataframe[na_columns].isnull().sum() / dataframe.shape[0] * 100).sort_values(ascending=False)\n",
    "    missing_df = pd.concat([n_miss, np.round(ratio, 2)], axis=1, keys=['n_miss', 'ratio'])\n",
    "    print(missing_df, end=\"\\n\")\n",
    "\n",
    "    if na_name:\n",
    "        return na_columns\n",
    "\n",
    "missing_values_table(df, na_name=True)"
   ]
  },
  {
   "cell_type": "markdown",
   "metadata": {},
   "source": [
    "Eksik değer veya aykırı bir değer bulunmadığı için veriler üzerindeki ön işleme burada bitmiştir fakat: \n",
    "1. Aykırı değerler saptansaydı 2 farklı seçeneğmiz olurdu:\n",
    "- Aykırı değerler çeyreklik değerlere bastırılabilirdi.\n",
    "- Aykırı değere sahip gözlemlerin direkt olarak dataframe'den atılması tercih edilebilirdi.\n",
    "2. Eksik değerler yakalansaydı 3 farklı seçeneğinimiz olurdu:\n",
    "- Eksik değere sahip olan gözlemler direkt olarak gözlemden silinirdi.\n",
    "- Eksik değerlere içerisinde bulunduğu değişkenin(sütunun) medyan değeri ya da mod değeri atanabilirdi.\n",
    "- K-en yakın komşu gibi bir modelleme ile eksik değere sahip olan gözleme yakın olanlar saptanırdı ve bu eksik değere benzer gözlemlerdeki değerler atanabilirdi.\n"
   ]
  },
  {
   "cell_type": "markdown",
   "metadata": {},
   "source": [
    "Feature Engineering (Özellik mühendisliği)"
   ]
  },
  {
   "cell_type": "code",
   "execution_count": 9,
   "metadata": {},
   "outputs": [],
   "source": [
    "df.loc[(df['Partner'] == 'No') & (df['Dependents'] == 'No'), 'NEW_IS_ALONE'] = 'Yes'\n",
    "df.loc[(df['Partner'] == 'Yes') | (df['Dependents'] == 'Yes'), 'NEW_IS_ALONE'] = 'No'\n",
    "\n",
    "df.loc[(df['OnlineSecurity'] == 'Yes') & (df['OnlineBackup'] == 'Yes') &\n",
    "       (df['DeviceProtection'] == 'Yes'), 'NEW_IS_CAUTIOUS'] = 'Yes'\n",
    "df.loc[(df['OnlineSecurity'] != 'Yes') | (df['OnlineBackup'] != 'Yes') |\n",
    "       (df['DeviceProtection'] != 'Yes'), 'NEW_IS_CAUTIOUS'] = 'No'\n",
    "\n",
    "df.loc[(df['SeniorCitizen'] == 1) & (df['TechSupport'] == 'Yes'), 'NEW_IS_HELPLESS'] = 'Yes'\n",
    "df.loc[(df['SeniorCitizen'] == 0) | (df['TechSupport'] != 'Yes'), 'NEW_IS_HELPLESS'] = 'No'\n",
    "\n",
    "df['tenure_MonthlyCharges_Ratio'] = df['tenure'] / df['MonthlyCharges']"
   ]
  },
  {
   "cell_type": "markdown",
   "metadata": {},
   "source": [
    "Binary türündeki kategorik değişkenlerin encode'lanması:"
   ]
  },
  {
   "cell_type": "code",
   "execution_count": 10,
   "metadata": {},
   "outputs": [],
   "source": [
    "binary_cols = [col for col in df.columns if df[col].dtype not in [int, float]\n",
    "               and df[col].nunique() == 2]\n",
    "\n",
    "def label_encoder(dataframe, binary_col):\n",
    "    labelencoder = LabelEncoder()\n",
    "    dataframe[binary_col] = labelencoder.fit_transform(dataframe[binary_col])\n",
    "    return dataframe\n",
    "\n",
    "for col in binary_cols:\n",
    "    label_encoder(df, col)"
   ]
  },
  {
   "cell_type": "markdown",
   "metadata": {},
   "source": [
    "Binary türünde olmayan kategorik değişkenlerin one-hot encoder'dan geçirilmesi:"
   ]
  },
  {
   "cell_type": "code",
   "execution_count": 11,
   "metadata": {},
   "outputs": [],
   "source": [
    "for col in cat_cols:\n",
    "    if col not in binary_cols:\n",
    "        df = pd.get_dummies(df, columns=[col], drop_first=True)"
   ]
  },
  {
   "cell_type": "markdown",
   "metadata": {},
   "source": [
    "Encoding işlemleri sonrası kategorik değişkenlerin tekrardan yakalanması:"
   ]
  },
  {
   "cell_type": "code",
   "execution_count": 12,
   "metadata": {},
   "outputs": [
    {
     "name": "stdout",
     "output_type": "stream",
     "text": [
      "Observations: 7043\n",
      "Variables: 36\n",
      "cat_cols: 30\n",
      "num_cols: 4\n",
      "cat_but_car: 1\n",
      "num_but_cat: 30\n"
     ]
    }
   ],
   "source": [
    "cat_cols, num_cols, cat_but_car = grab_col_names(df, TARGET)"
   ]
  },
  {
   "cell_type": "markdown",
   "metadata": {},
   "source": [
    "Numerik değişkenlerin Scale edilmesi:"
   ]
  },
  {
   "cell_type": "code",
   "execution_count": 13,
   "metadata": {},
   "outputs": [],
   "source": [
    "mms = MinMaxScaler()\n",
    "df[num_cols] = mms.fit_transform(df[num_cols])"
   ]
  },
  {
   "cell_type": "markdown",
   "metadata": {},
   "source": [
    "Datasetine uygun en iyi modelin seçilmesi:"
   ]
  },
  {
   "cell_type": "code",
   "execution_count": 14,
   "metadata": {},
   "outputs": [
    {
     "name": "stdout",
     "output_type": "stream",
     "text": [
      "-----------Scores of <class 'sklearn.ensemble._forest.RandomForestClassifier'>-----------\n",
      "test accuracy score: 0.7887283050519388\n",
      "test roc_auc score: 0.823613306056175\n",
      "test recall score: 0.47297816518759594\n",
      "test precision score: 0.638282841654964\n",
      "test f1 Score: 0.5431787323298354\n",
      "-----------Scores of <class 'sklearn.ensemble._gb.GradientBoostingClassifier'>-----------\n",
      "test accuracy score: 0.8059067318859281\n",
      "test roc_auc score: 0.8471317543522361\n",
      "test recall score: 0.5259465814110192\n",
      "test precision score: 0.6720572643884717\n",
      "test f1 Score: 0.5899855266345833\n",
      "-----------Scores of <class 'xgboost.sklearn.XGBClassifier'>-----------\n",
      "test accuracy score: 0.7837590328408285\n",
      "test roc_auc score: 0.8240108039379432\n",
      "test recall score: 0.5093647402904619\n",
      "test precision score: 0.6117973094997424\n",
      "test f1 Score: 0.5557263657635524\n",
      "-----------Scores of <class 'lightgbm.sklearn.LGBMClassifier'>-----------\n",
      "test accuracy score: 0.7914228337312085\n",
      "test roc_auc score: 0.8331078729608283\n",
      "test recall score: 0.5136299121159553\n",
      "test precision score: 0.6323104014569216\n",
      "test f1 Score: 0.5666047186362592\n",
      "-----------Scores of <class 'catboost.core.CatBoostClassifier'>-----------\n",
      "test accuracy score: 0.8003710924898382\n",
      "test roc_auc score: 0.8389912182242141\n",
      "test recall score: 0.5104313916646357\n",
      "test precision score: 0.6615447926575977\n",
      "test f1 Score: 0.5759748314868457\n",
      "-----------Scores of <class 'sklearn.linear_model._logistic.LogisticRegression'>-----------\n",
      "test accuracy score: 0.8020737224982257\n",
      "test roc_auc score: 0.8448028961900883\n",
      "test recall score: 0.5430775186018839\n",
      "test precision score: 0.6526310518523587\n",
      "test f1 Score: 0.5927160039462863\n"
     ]
    }
   ],
   "source": [
    "def check_test_scores(results):\n",
    "    print(f'test accuracy score: {results[\"test_accuracy\"].mean()}')\n",
    "    print(f'test roc_auc score: {results[\"test_roc_auc\"].mean()}')\n",
    "    print(f'test recall score: {results[\"test_recall\"].mean()}')\n",
    "    print(f'test precision score: {results[\"test_precision\"].mean()}')\n",
    "    print(f'test f1 Score: {results[\"test_f1\"].mean()}')\n",
    "\n",
    "y = df[TARGET]\n",
    "X = df.drop([TARGET, 'customerID'], axis=1)\n",
    "\n",
    "for alg in [RandomForestClassifier, GradientBoostingClassifier, XGBClassifier, LGBMClassifier, CatBoostClassifier, LogisticRegression]:\n",
    "\n",
    "    model = alg(random_state=33)\n",
    "    if alg == CatBoostClassifier:\n",
    "        model = alg(random_state=33, verbose=False)\n",
    "    cv_results = cross_validate(model, X, y, cv=5, scoring=['accuracy', 'f1',\n",
    "                                                                'precision', 'recall', 'roc_auc'])\n",
    "    print(f'-----------Scores of {alg}-----------')\n",
    "    check_test_scores(cv_results)"
   ]
  },
  {
   "cell_type": "markdown",
   "metadata": {},
   "source": [
    "En iyi modeller: Logistic Regresyon, Gradient Boosting, Catboost, LGBM"
   ]
  },
  {
   "cell_type": "markdown",
   "metadata": {},
   "source": [
    "Seçilmiş modeller üzerinden hiperparametr optimizasyonu yapmak:"
   ]
  },
  {
   "cell_type": "code",
   "execution_count": 16,
   "metadata": {},
   "outputs": [
    {
     "name": "stdout",
     "output_type": "stream",
     "text": [
      "Fitting 5 folds for each of 24 candidates, totalling 120 fits\n",
      "LGBM done\n",
      "CatBoost done\n",
      "Fitting 5 folds for each of 16 candidates, totalling 80 fits\n",
      "GBM done\n"
     ]
    }
   ],
   "source": [
    "# LGBM\n",
    "lgbm_model = LGBMClassifier(random_state=33)\n",
    "lgbm_params = {\"learning_rate\": [0.01, 0.1],\n",
    "               \"n_estimators\": [100, 300, 500, 1000],\n",
    "               \"colsample_bytree\": [0.5, 0.7, 1]}\n",
    "lgbm_best_grid = GridSearchCV(lgbm_model, lgbm_params, cv=5, n_jobs=-1, verbose=True).fit(X, y)\n",
    "\n",
    "lgbm_final = lgbm_model.set_params(**lgbm_best_grid.best_params_, random_state=17).fit(X, y)\n",
    "\n",
    "cv_results_lgbm = cross_validate(lgbm_final, X, y, cv=5, scoring=['accuracy', 'f1',\n",
    "                                                                'precision', 'recall', 'roc_auc'])\n",
    "print(\"LGBM done\")\n",
    "\n",
    "# CatBoost\n",
    "catboost_model = CatBoostClassifier(random_state=33, verbose=False)\n",
    "catboost_params = {\"iterations\": [200, 500],\n",
    "                   \"learning_rate\": [0.01, 0.1],\n",
    "                   \"depth\": [3, 6]}\n",
    "catboost_best_grid = GridSearchCV(catboost_model, catboost_params, cv=5, n_jobs=-1, verbose=False).fit(X, y)\n",
    "\n",
    "catboost_final = catboost_model.set_params(**catboost_best_grid.best_params_, random_state=17).fit(X, y)\n",
    "\n",
    "cv_results_cat = cross_validate(catboost_final, X, y, cv=5, scoring=['accuracy', 'f1',\n",
    "                                                                'precision', 'recall', 'roc_auc'])\n",
    "print(\"CatBoost done\")\n",
    "\n",
    "# GradientBoosting\n",
    "gbm_model = GradientBoostingClassifier(random_state=33)\n",
    "gbm_params = {\"learning_rate\": [0.01, 0.1],\n",
    "              \"max_depth\": [3, 8],\n",
    "              \"n_estimators\": [100, 500],\n",
    "              \"subsample\": [1, 0.7]}\n",
    "\n",
    "gbm_best_grid = GridSearchCV(gbm_model, gbm_params, cv=5, n_jobs=-1, verbose=True).fit(X, y)\n",
    "\n",
    "gbm_final = gbm_model.set_params(**gbm_best_grid.best_params_, random_state=17).fit(X, y)\n",
    "\n",
    "cv_results_gbm = cross_validate(gbm_final, X, y, cv=5, scoring=['accuracy', 'f1',\n",
    "                                                                'precision', 'recall', 'roc_auc'])\n",
    "print(\"GBM done\")"
   ]
  },
  {
   "cell_type": "markdown",
   "metadata": {},
   "source": [
    "Hiperparatmetre optimizasyonu yapılmış model skorları:"
   ]
  },
  {
   "cell_type": "code",
   "execution_count": 17,
   "metadata": {},
   "outputs": [
    {
     "name": "stdout",
     "output_type": "stream",
     "text": [
      "------LGBM------\n",
      "test accuracy score: 0.79937606861733\n",
      "test roc_auc score: 0.8434685865917597\n",
      "test recall score: 0.5109647173517226\n",
      "test precision score: 0.6578986451421927\n",
      "test f1 Score: 0.575002501589087\n",
      "------CAT------\n",
      "test accuracy score: 0.8067587021743339\n",
      "test roc_auc score: 0.8488458920347117\n",
      "test recall score: 0.5147137675445513\n",
      "test precision score: 0.6799748840713349\n",
      "test f1 Score: 0.585793385404401\n",
      "------GBM------\n",
      "test accuracy score: 0.8051965046132009\n",
      "test roc_auc score: 0.8485546614897721\n",
      "test recall score: 0.5131080557984832\n",
      "test precision score: 0.6748243133752594\n",
      "test f1 Score: 0.582924784911796\n"
     ]
    }
   ],
   "source": [
    "print('------LGBM------')\n",
    "check_test_scores(cv_results_lgbm)\n",
    "print('------CAT------')\n",
    "check_test_scores(cv_results_cat)\n",
    "print('------GBM------')\n",
    "check_test_scores(cv_results_gbm)"
   ]
  }
 ],
 "metadata": {
  "kernelspec": {
   "display_name": "Python 3.10.6 64-bit (windows store)",
   "language": "python",
   "name": "python3"
  },
  "language_info": {
   "codemirror_mode": {
    "name": "ipython",
    "version": 3
   },
   "file_extension": ".py",
   "mimetype": "text/x-python",
   "name": "python",
   "nbconvert_exporter": "python",
   "pygments_lexer": "ipython3",
   "version": "3.10.6"
  },
  "orig_nbformat": 4,
  "vscode": {
   "interpreter": {
    "hash": "324c3f65d51aa70d86de7a1e9b16991a830150a409261abaf59ab15ef7420b76"
   }
  }
 },
 "nbformat": 4,
 "nbformat_minor": 2
}
